{
 "cells": [
  {
   "cell_type": "code",
   "execution_count": 1,
   "metadata": {},
   "outputs": [
    {
     "name": "stdout",
     "output_type": "stream",
     "text": [
      "Collecting SciencePlots\n",
      "  Using cached SciencePlots-2.1.1-py3-none-any.whl.metadata (11 kB)\n",
      "Requirement already satisfied: matplotlib in /home/m_bobrin/miniconda3/envs/jax/lib/python3.10/site-packages (from SciencePlots) (3.9.2)\n",
      "Requirement already satisfied: contourpy>=1.0.1 in /home/m_bobrin/miniconda3/envs/jax/lib/python3.10/site-packages (from matplotlib->SciencePlots) (1.3.1)\n",
      "Requirement already satisfied: cycler>=0.10 in /home/m_bobrin/miniconda3/envs/jax/lib/python3.10/site-packages (from matplotlib->SciencePlots) (0.11.0)\n",
      "Requirement already satisfied: fonttools>=4.22.0 in /home/m_bobrin/miniconda3/envs/jax/lib/python3.10/site-packages (from matplotlib->SciencePlots) (4.51.0)\n",
      "Requirement already satisfied: kiwisolver>=1.3.1 in /home/m_bobrin/miniconda3/envs/jax/lib/python3.10/site-packages (from matplotlib->SciencePlots) (1.4.4)\n",
      "Requirement already satisfied: numpy>=1.23 in /home/m_bobrin/miniconda3/envs/jax/lib/python3.10/site-packages (from matplotlib->SciencePlots) (1.26.4)\n",
      "Requirement already satisfied: packaging>=20.0 in /home/m_bobrin/miniconda3/envs/jax/lib/python3.10/site-packages (from matplotlib->SciencePlots) (24.1)\n",
      "Requirement already satisfied: pillow>=8 in /home/m_bobrin/miniconda3/envs/jax/lib/python3.10/site-packages (from matplotlib->SciencePlots) (9.1.1)\n",
      "Requirement already satisfied: pyparsing>=2.3.1 in /home/m_bobrin/miniconda3/envs/jax/lib/python3.10/site-packages (from matplotlib->SciencePlots) (3.2.0)\n",
      "Requirement already satisfied: python-dateutil>=2.7 in /home/m_bobrin/miniconda3/envs/jax/lib/python3.10/site-packages (from matplotlib->SciencePlots) (2.9.0.post0)\n",
      "Requirement already satisfied: six>=1.5 in /home/m_bobrin/miniconda3/envs/jax/lib/python3.10/site-packages (from python-dateutil>=2.7->matplotlib->SciencePlots) (1.16.0)\n",
      "Using cached SciencePlots-2.1.1-py3-none-any.whl (16 kB)\n",
      "Installing collected packages: SciencePlots\n",
      "Successfully installed SciencePlots-2.1.1\n",
      "Requirement already satisfied: rootutils in /home/m_bobrin/miniconda3/envs/jax/lib/python3.10/site-packages (1.0.7)\n",
      "Requirement already satisfied: python-dotenv>=0.20.0 in /home/m_bobrin/miniconda3/envs/jax/lib/python3.10/site-packages (from rootutils) (1.0.1)\n"
     ]
    }
   ],
   "source": [
    "try:\n",
    "    import scienceplots\n",
    "    import rootutils\n",
    "except ModuleNotFoundError:\n",
    "    !pip install SciencePlots\n",
    "    !pip install rootutils"
   ]
  },
  {
   "cell_type": "code",
   "execution_count": 1,
   "metadata": {},
   "outputs": [],
   "source": [
    "import shutup\n",
    "shutup.please()\n",
    "\n",
    "import os\n",
    "os.environ['CUDA_VISIBLE_DEVICES']='1'\n",
    "\n",
    "import warnings\n",
    "warnings.filterwarnings('ignore')\n",
    "\n",
    "import rootutils\n",
    "ROOT = rootutils.setup_root(indicator='README.md', search_from=os.path.abspath(''), pythonpath=True, cwd=True)\n",
    "\n",
    "import jax\n",
    "import jax.numpy as jnp\n",
    "GLOBAL_KEY = jax.random.key(42)\n",
    "\n",
    "import matplotlib.pyplot as plt\n",
    "import scienceplots\n",
    "plt.style.use(['science', 'notebook'])"
   ]
  },
  {
   "cell_type": "code",
   "execution_count": null,
   "metadata": {},
   "outputs": [],
   "source": []
  },
  {
   "cell_type": "code",
   "execution_count": null,
   "metadata": {},
   "outputs": [],
   "source": []
  },
  {
   "cell_type": "code",
   "execution_count": null,
   "metadata": {},
   "outputs": [],
   "source": []
  }
 ],
 "metadata": {
  "kernelspec": {
   "display_name": "jax",
   "language": "python",
   "name": "python3"
  },
  "language_info": {
   "codemirror_mode": {
    "name": "ipython",
    "version": 3
   },
   "file_extension": ".py",
   "mimetype": "text/x-python",
   "name": "python",
   "nbconvert_exporter": "python",
   "pygments_lexer": "ipython3",
   "version": "3.10.4"
  }
 },
 "nbformat": 4,
 "nbformat_minor": 2
}
